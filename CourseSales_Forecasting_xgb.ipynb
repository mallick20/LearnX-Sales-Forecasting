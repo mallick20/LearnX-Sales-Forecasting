{
  "nbformat": 4,
  "nbformat_minor": 0,
  "metadata": {
    "colab": {
      "name": "CourseSales_Forecasting_xgb.ipynb",
      "provenance": [],
      "include_colab_link": true
    },
    "kernelspec": {
      "name": "python3",
      "display_name": "Python 3"
    }
  },
  "cells": [
    {
      "cell_type": "markdown",
      "metadata": {
        "id": "view-in-github",
        "colab_type": "text"
      },
      "source": [
        "<a href=\"https://colab.research.google.com/github/mallick20/LearnX-Sales-Forecasting/blob/main/CourseSales_Forecasting_xgb.ipynb\" target=\"_parent\"><img src=\"https://colab.research.google.com/assets/colab-badge.svg\" alt=\"Open In Colab\"/></a>"
      ]
    },
    {
      "cell_type": "code",
      "metadata": {
        "colab": {
          "base_uri": "https://localhost:8080/"
        },
        "id": "LYvSwgPDNt02",
        "outputId": "83fa7965-4e3d-45b7-ae72-b3e3394e4a85"
      },
      "source": [
        "from google.colab import drive\n",
        "drive.mount('/content/drive')"
      ],
      "execution_count": 1,
      "outputs": [
        {
          "output_type": "stream",
          "text": [
            "Mounted at /content/drive\n"
          ],
          "name": "stdout"
        }
      ]
    },
    {
      "cell_type": "markdown",
      "metadata": {
        "id": "10dH9p5YNmDK"
      },
      "source": [
        "Required Packages"
      ]
    },
    {
      "cell_type": "code",
      "metadata": {
        "id": "1lEk3f-4vjxh",
        "trusted": true
      },
      "source": [
        "from time import time\n",
        "import os\n",
        "\n",
        "import numpy as np\n",
        "import pandas as pd\n",
        "\n",
        "from sklearn.model_selection import train_test_split\n",
        "from sklearn.metrics import mean_absolute_error as mae, mean_squared_error as mse\n",
        "from sklearn.preprocessing import OneHotEncoder, LabelEncoder\n",
        "from sklearn.feature_selection import VarianceThreshold\n",
        "from sklearn.metrics import mean_squared_log_error\n",
        "\n",
        "from sklearn.model_selection import train_test_split\n",
        "\n",
        "from sklearn.tree import DecisionTreeRegressor\n",
        "from sklearn.ensemble import RandomForestRegressor\n",
        "import xgboost as xgb\n",
        "\n",
        "import seaborn as sns\n",
        "import matplotlib.pyplot as plt\n",
        "%matplotlib inline\n",
        "\n",
        "#print(os.listdir(\"../input\"))\n",
        "# import os\n",
        "# for dirname, _, filenames in os.walk('/kaggle/input'):\n",
        "#     for filename in filenames:\n",
        "#         print(os.path.join(dirname, filename))"
      ],
      "execution_count": 2,
      "outputs": []
    },
    {
      "cell_type": "code",
      "metadata": {
        "id": "8aKMpyUgxJ0x",
        "trusted": true
      },
      "source": [
        "train = pd.read_csv(\"/content/drive/MyDrive/CourseSales_Forecasting/train.csv\")\n",
        "test = pd.read_csv(\"/content/drive/MyDrive/CourseSales_Forecasting/test_6hcImfB.csv\")\n"
      ],
      "execution_count": 3,
      "outputs": []
    },
    {
      "cell_type": "code",
      "metadata": {
        "id": "k_rZ5zLEyZzQ",
        "trusted": true,
        "colab": {
          "base_uri": "https://localhost:8080/",
          "height": 241
        },
        "outputId": "4dc971ed-6870-4f11-ed08-0641972feffb"
      },
      "source": [
        "print(train.shape)\n",
        "train.head()"
      ],
      "execution_count": 4,
      "outputs": [
        {
          "output_type": "stream",
          "text": [
            "(512087, 11)\n"
          ],
          "name": "stdout"
        },
        {
          "output_type": "execute_result",
          "data": {
            "text/html": [
              "<div>\n",
              "<style scoped>\n",
              "    .dataframe tbody tr th:only-of-type {\n",
              "        vertical-align: middle;\n",
              "    }\n",
              "\n",
              "    .dataframe tbody tr th {\n",
              "        vertical-align: top;\n",
              "    }\n",
              "\n",
              "    .dataframe thead th {\n",
              "        text-align: right;\n",
              "    }\n",
              "</style>\n",
              "<table border=\"1\" class=\"dataframe\">\n",
              "  <thead>\n",
              "    <tr style=\"text-align: right;\">\n",
              "      <th></th>\n",
              "      <th>ID</th>\n",
              "      <th>Day_No</th>\n",
              "      <th>Course_ID</th>\n",
              "      <th>Course_Domain</th>\n",
              "      <th>Course_Type</th>\n",
              "      <th>Short_Promotion</th>\n",
              "      <th>Public_Holiday</th>\n",
              "      <th>Long_Promotion</th>\n",
              "      <th>User_Traffic</th>\n",
              "      <th>Competition_Metric</th>\n",
              "      <th>Sales</th>\n",
              "    </tr>\n",
              "  </thead>\n",
              "  <tbody>\n",
              "    <tr>\n",
              "      <th>0</th>\n",
              "      <td>1</td>\n",
              "      <td>1</td>\n",
              "      <td>1</td>\n",
              "      <td>Development</td>\n",
              "      <td>Course</td>\n",
              "      <td>0</td>\n",
              "      <td>1</td>\n",
              "      <td>1</td>\n",
              "      <td>11004</td>\n",
              "      <td>0.007</td>\n",
              "      <td>81</td>\n",
              "    </tr>\n",
              "    <tr>\n",
              "      <th>1</th>\n",
              "      <td>2</td>\n",
              "      <td>2</td>\n",
              "      <td>1</td>\n",
              "      <td>Development</td>\n",
              "      <td>Course</td>\n",
              "      <td>0</td>\n",
              "      <td>0</td>\n",
              "      <td>1</td>\n",
              "      <td>13650</td>\n",
              "      <td>0.007</td>\n",
              "      <td>79</td>\n",
              "    </tr>\n",
              "    <tr>\n",
              "      <th>2</th>\n",
              "      <td>3</td>\n",
              "      <td>3</td>\n",
              "      <td>1</td>\n",
              "      <td>Development</td>\n",
              "      <td>Course</td>\n",
              "      <td>0</td>\n",
              "      <td>0</td>\n",
              "      <td>1</td>\n",
              "      <td>11655</td>\n",
              "      <td>0.007</td>\n",
              "      <td>75</td>\n",
              "    </tr>\n",
              "    <tr>\n",
              "      <th>3</th>\n",
              "      <td>4</td>\n",
              "      <td>4</td>\n",
              "      <td>1</td>\n",
              "      <td>Development</td>\n",
              "      <td>Course</td>\n",
              "      <td>0</td>\n",
              "      <td>0</td>\n",
              "      <td>1</td>\n",
              "      <td>12054</td>\n",
              "      <td>0.007</td>\n",
              "      <td>80</td>\n",
              "    </tr>\n",
              "    <tr>\n",
              "      <th>4</th>\n",
              "      <td>5</td>\n",
              "      <td>5</td>\n",
              "      <td>1</td>\n",
              "      <td>Development</td>\n",
              "      <td>Course</td>\n",
              "      <td>0</td>\n",
              "      <td>0</td>\n",
              "      <td>1</td>\n",
              "      <td>6804</td>\n",
              "      <td>0.007</td>\n",
              "      <td>41</td>\n",
              "    </tr>\n",
              "  </tbody>\n",
              "</table>\n",
              "</div>"
            ],
            "text/plain": [
              "   ID  Day_No  Course_ID  ... User_Traffic Competition_Metric  Sales\n",
              "0   1       1          1  ...        11004              0.007     81\n",
              "1   2       2          1  ...        13650              0.007     79\n",
              "2   3       3          1  ...        11655              0.007     75\n",
              "3   4       4          1  ...        12054              0.007     80\n",
              "4   5       5          1  ...         6804              0.007     41\n",
              "\n",
              "[5 rows x 11 columns]"
            ]
          },
          "metadata": {
            "tags": []
          },
          "execution_count": 4
        }
      ]
    },
    {
      "cell_type": "code",
      "metadata": {
        "id": "L01usR_Oy_Pi",
        "trusted": true,
        "colab": {
          "base_uri": "https://localhost:8080/"
        },
        "outputId": "ea42b513-83e4-48ca-c40f-4c403e3ea031"
      },
      "source": [
        "train.info()"
      ],
      "execution_count": 5,
      "outputs": [
        {
          "output_type": "stream",
          "text": [
            "<class 'pandas.core.frame.DataFrame'>\n",
            "RangeIndex: 512087 entries, 0 to 512086\n",
            "Data columns (total 11 columns):\n",
            " #   Column              Non-Null Count   Dtype  \n",
            "---  ------              --------------   -----  \n",
            " 0   ID                  512087 non-null  int64  \n",
            " 1   Day_No              512087 non-null  int64  \n",
            " 2   Course_ID           512087 non-null  int64  \n",
            " 3   Course_Domain       512087 non-null  object \n",
            " 4   Course_Type         512087 non-null  object \n",
            " 5   Short_Promotion     512087 non-null  int64  \n",
            " 6   Public_Holiday      512087 non-null  int64  \n",
            " 7   Long_Promotion      512087 non-null  int64  \n",
            " 8   User_Traffic        512087 non-null  int64  \n",
            " 9   Competition_Metric  510323 non-null  float64\n",
            " 10  Sales               512087 non-null  int64  \n",
            "dtypes: float64(1), int64(8), object(2)\n",
            "memory usage: 43.0+ MB\n"
          ],
          "name": "stdout"
        }
      ]
    },
    {
      "cell_type": "code",
      "metadata": {
        "id": "91FrrxjrzeJV",
        "colab": {
          "base_uri": "https://localhost:8080/"
        },
        "outputId": "0c032e9b-bfe9-4952-815b-b64ed7649f05"
      },
      "source": [
        "test.info()"
      ],
      "execution_count": 6,
      "outputs": [
        {
          "output_type": "stream",
          "text": [
            "<class 'pandas.core.frame.DataFrame'>\n",
            "RangeIndex: 36000 entries, 0 to 35999\n",
            "Data columns (total 9 columns):\n",
            " #   Column              Non-Null Count  Dtype  \n",
            "---  ------              --------------  -----  \n",
            " 0   ID                  36000 non-null  int64  \n",
            " 1   Day_No              36000 non-null  int64  \n",
            " 2   Course_ID           36000 non-null  int64  \n",
            " 3   Course_Domain       36000 non-null  object \n",
            " 4   Course_Type         36000 non-null  object \n",
            " 5   Short_Promotion     36000 non-null  int64  \n",
            " 6   Public_Holiday      36000 non-null  int64  \n",
            " 7   Long_Promotion      36000 non-null  int64  \n",
            " 8   Competition_Metric  35880 non-null  float64\n",
            "dtypes: float64(1), int64(6), object(2)\n",
            "memory usage: 2.5+ MB\n"
          ],
          "name": "stdout"
        }
      ]
    },
    {
      "cell_type": "markdown",
      "metadata": {
        "id": "yMeZ5RAFzXs0"
      },
      "source": [
        "Exploratory Data Analysis"
      ]
    },
    {
      "cell_type": "code",
      "metadata": {
        "id": "3YiAFCOPZ-SD"
      },
      "source": [
        "train.describe()"
      ],
      "execution_count": null,
      "outputs": []
    },
    {
      "cell_type": "code",
      "metadata": {
        "id": "xXZ5FIshaLpV"
      },
      "source": [
        "test.describe()"
      ],
      "execution_count": null,
      "outputs": []
    },
    {
      "cell_type": "code",
      "metadata": {
        "id": "jPBQgpOszaIr",
        "trusted": true
      },
      "source": [
        "# Null Values in each column\n",
        "train.isna().sum()"
      ],
      "execution_count": null,
      "outputs": []
    },
    {
      "cell_type": "code",
      "metadata": {
        "id": "jBNbVPLr0LoB"
      },
      "source": [
        "for col in train.columns:\n",
        "  print(col,train[col].nunique())"
      ],
      "execution_count": null,
      "outputs": []
    },
    {
      "cell_type": "code",
      "metadata": {
        "id": "mCqqOIvrOVJZ"
      },
      "source": [
        "# Course Domain\n",
        "print(train[\"Course_Domain\"].value_counts())\n",
        "sns.countplot(x=\"Course_Domain\",data=train)"
      ],
      "execution_count": null,
      "outputs": []
    },
    {
      "cell_type": "code",
      "metadata": {
        "id": "exsLbpoRPT-v"
      },
      "source": [
        "#Course Type\n",
        "plt.figure(1)\n",
        "sns.countplot(x=\"Course_Type\",data=train)\n",
        "\n",
        "plt.figure(2)\n",
        "sns.countplot(x=\"Course_Type\", data=test)"
      ],
      "execution_count": null,
      "outputs": []
    },
    {
      "cell_type": "code",
      "metadata": {
        "id": "DMzpigGePugo"
      },
      "source": [
        "#Public Holiday\n",
        "print(train[\"Public_Holiday\"].value_counts())\n",
        "plt.figure(1)\n",
        "sns.countplot(x=\"Public_Holiday\",data=train)\n",
        "plt.figure(2)\n",
        "sns.countplot(x=\"Public_Holiday\", data=test)"
      ],
      "execution_count": null,
      "outputs": []
    },
    {
      "cell_type": "code",
      "metadata": {
        "id": "ad-Z1rhmP_sM"
      },
      "source": [
        "# Short and Long Promotion\n",
        "df1 = train[(train.Short_Promotion==1) & (train.Long_Promotion==0)]\n",
        "df2 = train[(train.Short_Promotion==0) & (train.Long_Promotion==1)]\n",
        "df3 = train[(train.Short_Promotion==1) & (train.Long_Promotion==1)]\n",
        "df4 = train[(train.Short_Promotion==0) & (train.Long_Promotion==0)]\n",
        "\n",
        "\n",
        "for df in (df1,df2,df3,df4):\n",
        "  print(df.shape[0],df[\"Sales\"].mean())\n",
        "\n",
        "plt.figure(figsize=(6,6))\n",
        "plt.subplot(2,1,1)\n",
        "sns.countplot(x=\"Short_Promotion\",data=train)\n",
        "plt.subplot(2,1,2)\n",
        "sns.countplot(x=\"Long_Promotion\",data=train)"
      ],
      "execution_count": null,
      "outputs": []
    },
    {
      "cell_type": "code",
      "metadata": {
        "id": "vam_ylj3P8Fg"
      },
      "source": [
        "plt.figure(figsize=(10,8))\n",
        "plt.subplot(2,1,1)\n",
        "sns.displot(data = train, x = \"Competition_Metric\", kind = \"kde\")\n",
        "plt.subplot(2,1,2)\n",
        "sns.displot(data = test, x = \"Competition_Metric\", kind = \"kde\")\n"
      ],
      "execution_count": null,
      "outputs": []
    },
    {
      "cell_type": "code",
      "metadata": {
        "id": "BC05LTimRKFR"
      },
      "source": [
        "plt.figure(figsize=(10,8))\n",
        "plt.subplot(2,1,1)\n",
        "sns.boxplot(x=\"Competition_Metric\", data=train)\n",
        "plt.subplot(2,1,2)\n",
        "sns.boxplot(x=\"Competition_Metric\", data=test)\n"
      ],
      "execution_count": null,
      "outputs": []
    },
    {
      "cell_type": "code",
      "metadata": {
        "id": "0AFfTennK5QH"
      },
      "source": [
        "print(train[\"Day_No\"].values)\n",
        "print(test[\"Day_No\"].values)"
      ],
      "execution_count": null,
      "outputs": []
    },
    {
      "cell_type": "code",
      "metadata": {
        "id": "qCp6rntSLFiT"
      },
      "source": [
        "print(train['Course_ID'].unique())\n",
        "print(test['Course_ID'].unique())"
      ],
      "execution_count": null,
      "outputs": []
    },
    {
      "cell_type": "code",
      "metadata": {
        "id": "JQdFvDE4zf-H",
        "trusted": true
      },
      "source": [
        "test.isna().sum()"
      ],
      "execution_count": null,
      "outputs": []
    },
    {
      "cell_type": "code",
      "metadata": {
        "id": "GvcJkUQr12N8",
        "trusted": true
      },
      "source": [
        "#target variable\n",
        "sns.distplot(train['Sales'])"
      ],
      "execution_count": null,
      "outputs": []
    },
    {
      "cell_type": "code",
      "metadata": {
        "id": "AUzvVFrC15Kr",
        "trusted": true
      },
      "source": [
        "# it is skewed hence while performing model,log1p transformation is applied"
      ],
      "execution_count": null,
      "outputs": []
    },
    {
      "cell_type": "code",
      "metadata": {
        "id": "kfBD2wRe2O09",
        "trusted": true
      },
      "source": [
        "# sales of course_ID 1 full timne\n",
        "strain = train[train.Sales>0]\n",
        "strain.loc[strain['Course_ID']==1 ,['Day_No','Sales']].plot(x='Day_No',y='Sales',title='Course_ID 1',figsize=(16,4))\n"
      ],
      "execution_count": null,
      "outputs": []
    },
    {
      "cell_type": "code",
      "metadata": {
        "id": "1n4RM1KS2QuS",
        "trusted": true
      },
      "source": [
        "# sales of course_ID 2  full timne\n",
        "strain = train[train.Sales>0]\n",
        "strain.loc[strain['Course_ID']==2 ,['Day_No','Sales']].plot(x='Day_No',y='Sales',title='Course_ID 2',figsize=(16,4))\n"
      ],
      "execution_count": null,
      "outputs": []
    },
    {
      "cell_type": "code",
      "metadata": {
        "id": "5kGQcbHQ2TVT",
        "trusted": true
      },
      "source": [
        "#sales of course_id 1 ,day no 240 vs 605\n",
        "strain = train[train.Sales>0]\n",
        "strain.loc[strain['Course_ID']==1 ,['Day_No','Sales']]     .plot(x='Day_No',y='Sales',title='Course_ID 1',figsize=(8,2),xlim=[240,605])\n",
        "strain.loc[strain['Course_ID']==1 ,['Day_No','Sales']]     .plot(x='Day_No',y='Sales',title='Course_ID 1',figsize=(8,2),xlim=[240,605])"
      ],
      "execution_count": null,
      "outputs": []
    },
    {
      "cell_type": "markdown",
      "metadata": {
        "id": "EckG1ZZ82VLJ"
      },
      "source": [
        "Feature Engineering"
      ]
    },
    {
      "cell_type": "code",
      "metadata": {
        "id": "IrJAp7Vx2Yuo",
        "trusted": true
      },
      "source": [
        "# Creating copies of original data\n",
        "\n",
        "train_ = train.copy()\n",
        "test_ = test.copy()"
      ],
      "execution_count": 7,
      "outputs": []
    },
    {
      "cell_type": "code",
      "metadata": {
        "id": "vvaE-IDq2ae-",
        "trusted": true
      },
      "source": [
        "# Drop User Traffic\n",
        "\n",
        "train.drop([\"User_Traffic\"],axis=1,inplace=True)"
      ],
      "execution_count": 8,
      "outputs": []
    },
    {
      "cell_type": "code",
      "metadata": {
        "id": "YT7GpQZhPwup"
      },
      "source": [
        "# Drop ID \n",
        "\n",
        "train.drop([\"ID\"],axis=1,inplace=True)\n",
        "test.drop([\"ID\"],axis=1,inplace=True)"
      ],
      "execution_count": 9,
      "outputs": []
    },
    {
      "cell_type": "code",
      "metadata": {
        "id": "qfhKfp0GIe-g"
      },
      "source": [
        "# Dealing with null values in the columns\n",
        "\n",
        "train.fillna(train[\"Competition_Metric\"].median(),inplace=True)\n",
        "test.fillna(test[\"Competition_Metric\"].median(),inplace=True)"
      ],
      "execution_count": 10,
      "outputs": []
    },
    {
      "cell_type": "code",
      "metadata": {
        "id": "RI1IVuOdIjU5"
      },
      "source": [
        "# Dealing with Day Number - Changing it to Label Encoding\n",
        "\n",
        "train[\"Day_No\"] = train[\"Day_No\"]%7\n",
        "test[\"Day_No\"] = test[\"Day_No\"]%7"
      ],
      "execution_count": 11,
      "outputs": []
    },
    {
      "cell_type": "code",
      "metadata": {
        "id": "MnvISa8SLzAb"
      },
      "source": [
        "# Dealing with categorical Variables\n",
        "\n",
        "enc = OneHotEncoder(dtype='int64',handle_unknown='ignore')\n",
        "\n",
        "tr_val = enc.fit_transform(train[[\"Course_Domain\",\"Course_Type\"]]).toarray()\n",
        "tr_df = pd.DataFrame(tr_val,columns=enc.get_feature_names())\n",
        "train = pd.concat([train,tr_df],axis=1)\n",
        "train.drop([\"Course_Domain\",\"Course_Type\"],axis=1,inplace=True)\n",
        "\n",
        "te_val = enc.transform(test[[\"Course_Domain\",\"Course_Type\"]]).toarray()\n",
        "te_df = pd.DataFrame(te_val,columns=enc.get_feature_names())\n",
        "test = pd.concat([test,te_df],axis=1)\n",
        "test.drop([\"Course_Domain\",\"Course_Type\"],axis=1,inplace=True)"
      ],
      "execution_count": 12,
      "outputs": []
    },
    {
      "cell_type": "code",
      "metadata": {
        "id": "3Y_dS6rC2qf7",
        "trusted": true
      },
      "source": [
        "plt.subplots(figsize=(16,16))\n",
        "sns.heatmap(train.corr(),annot=True, vmin=-0.1, vmax=0.1,center=0)"
      ],
      "execution_count": null,
      "outputs": []
    },
    {
      "cell_type": "markdown",
      "metadata": {
        "id": "4SDl2Q593C-L"
      },
      "source": [
        "# Model Building"
      ]
    },
    {
      "cell_type": "code",
      "metadata": {
        "id": "qRpBaTGoMrU4"
      },
      "source": [
        "from sklearn.metrics import mean_squared_log_error as MSLE"
      ],
      "execution_count": 14,
      "outputs": []
    },
    {
      "cell_type": "code",
      "metadata": {
        "id": "abmVShYC2zVi",
        "trusted": true
      },
      "source": [
        "# Metric for Model\n",
        "\n",
        "def RMSLE(y, yhat):\n",
        "    return (np.sqrt(MSLE(y, yhat)))*1000\n",
        "\n",
        "def rmsle_xgb(yhat, y):\n",
        "    y = np.expm1(y.get_label())\n",
        "    yhat = np.expm1(yhat)\n",
        "    return \"rmsle\", RMSLE(y,yhat)"
      ],
      "execution_count": 15,
      "outputs": []
    },
    {
      "cell_type": "code",
      "metadata": {
        "id": "Vfs1NuleO8Ot"
      },
      "source": [
        "# Defining the train, validate and test inputs and outputs\n",
        "\n",
        "y = train.loc[:,\"Sales\"].copy()\n",
        "X = train.loc[:,train.columns != 'Sales'].copy()\n",
        "X_train, X_val, y_train, y_val = train_test_split(X, y, test_size = 0.05)\n",
        "\n",
        "y_train = np.log1p(y_train)\n",
        "y_val = np.log1p(y_val)\n",
        "\n",
        "X_test = test.copy()"
      ],
      "execution_count": 16,
      "outputs": []
    },
    {
      "cell_type": "code",
      "metadata": {
        "id": "zDI3Scjm24SN",
        "trusted": true
      },
      "source": [
        "# as the target variable is skewed applying log1p transformation"
      ],
      "execution_count": null,
      "outputs": []
    },
    {
      "cell_type": "code",
      "metadata": {
        "id": "zSqhJnSj3JLy",
        "trusted": true
      },
      "source": [
        "params = {\"objective\": \"reg:linear\",\n",
        "          \"booster\" : \"gbtree\",\n",
        "          \"eta\": 0.03,\n",
        "          \"max_depth\": 14,\n",
        "          \"subsample\": 0.9,\n",
        "          \"colsample_bytree\": 0.7,\n",
        "          \"silent\": 1,\n",
        "          \"seed\": 10\n",
        "          }\n",
        "num_boost_round = 6000\n",
        "\n",
        "\n",
        "dtrain = xgb.DMatrix(X_train, y_train)\n",
        "dvalid = xgb.DMatrix(X_val, y_val)\n",
        "watchlist = [(dtrain, 'train'), (dvalid, 'eval')]"
      ],
      "execution_count": 17,
      "outputs": []
    },
    {
      "cell_type": "code",
      "metadata": {
        "id": "0PuONC8N3cLW",
        "trusted": true,
        "colab": {
          "base_uri": "https://localhost:8080/"
        },
        "outputId": "cc187557-7a7f-4632-f48e-3062ce1d560a"
      },
      "source": [
        "print(\"Train a XGBoost model\")\n",
        "start = time()\n",
        "gbm = xgb.train(params, dtrain, num_boost_round, evals=watchlist, \n",
        "  early_stopping_rounds=50, feval=rmsle_xgb, verbose_eval=True)\n",
        "end = time()\n",
        "print('Training time is {:2f} s.'.format(end-start))"
      ],
      "execution_count": 19,
      "outputs": [
        {
          "output_type": "stream",
          "text": [
            "Train a XGBoost model\n",
            "[0]\ttrain-rmse:4.10447\teval-rmse:4.10372\ttrain-rmsle:4104.43\teval-rmsle:4103.72\n",
            "Multiple eval metrics have been passed: 'eval-rmsle' will be used for early stopping.\n",
            "\n",
            "Will train until eval-rmsle hasn't improved in 50 rounds.\n",
            "[1]\ttrain-rmse:3.98229\teval-rmse:3.98157\ttrain-rmsle:3982.29\teval-rmsle:3981.56\n",
            "[2]\ttrain-rmse:3.86396\teval-rmse:3.86322\ttrain-rmsle:3863.98\teval-rmsle:3863.23\n",
            "[3]\ttrain-rmse:3.74895\teval-rmse:3.74818\ttrain-rmsle:3748.94\teval-rmsle:3748.18\n",
            "[4]\ttrain-rmse:3.6375\teval-rmse:3.63676\ttrain-rmsle:3637.5\teval-rmsle:3636.76\n",
            "[5]\ttrain-rmse:3.52942\teval-rmse:3.52868\ttrain-rmsle:3529.41\teval-rmsle:3528.67\n",
            "[6]\ttrain-rmse:3.42449\teval-rmse:3.4238\ttrain-rmsle:3424.49\teval-rmsle:3423.8\n",
            "[7]\ttrain-rmse:3.32272\teval-rmse:3.32201\ttrain-rmsle:3322.71\teval-rmsle:3322.02\n",
            "[8]\ttrain-rmse:3.22413\teval-rmse:3.22347\ttrain-rmsle:3224.14\teval-rmsle:3223.46\n",
            "[9]\ttrain-rmse:3.12849\teval-rmse:3.12785\ttrain-rmsle:3128.5\teval-rmsle:3127.85\n",
            "[10]\ttrain-rmse:3.03561\teval-rmse:3.03495\ttrain-rmsle:3035.6\teval-rmsle:3034.95\n",
            "[11]\ttrain-rmse:2.94571\teval-rmse:2.94511\ttrain-rmsle:2945.72\teval-rmsle:2945.11\n",
            "[12]\ttrain-rmse:2.85853\teval-rmse:2.85793\ttrain-rmsle:2858.52\teval-rmsle:2857.93\n",
            "[13]\ttrain-rmse:2.77374\teval-rmse:2.77317\ttrain-rmsle:2773.75\teval-rmsle:2773.17\n",
            "[14]\ttrain-rmse:2.69181\teval-rmse:2.69126\ttrain-rmsle:2691.81\teval-rmsle:2691.26\n",
            "[15]\ttrain-rmse:2.61212\teval-rmse:2.61159\ttrain-rmsle:2612.12\teval-rmsle:2611.59\n",
            "[16]\ttrain-rmse:2.5351\teval-rmse:2.53457\ttrain-rmsle:2535.09\teval-rmsle:2534.57\n",
            "[17]\ttrain-rmse:2.46027\teval-rmse:2.45978\ttrain-rmsle:2460.27\teval-rmsle:2459.78\n",
            "[18]\ttrain-rmse:2.3876\teval-rmse:2.38716\ttrain-rmsle:2387.59\teval-rmsle:2387.16\n",
            "[19]\ttrain-rmse:2.31707\teval-rmse:2.31668\ttrain-rmsle:2317.07\teval-rmsle:2316.68\n",
            "[20]\ttrain-rmse:2.24866\teval-rmse:2.24829\ttrain-rmsle:2248.66\teval-rmsle:2248.29\n",
            "[21]\ttrain-rmse:2.18235\teval-rmse:2.18202\ttrain-rmsle:2182.35\teval-rmsle:2182.02\n",
            "[22]\ttrain-rmse:2.11812\teval-rmse:2.11782\ttrain-rmsle:2118.12\teval-rmsle:2117.82\n",
            "[23]\ttrain-rmse:2.05577\teval-rmse:2.0555\ttrain-rmsle:2055.76\teval-rmsle:2055.49\n",
            "[24]\ttrain-rmse:1.9955\teval-rmse:1.99525\ttrain-rmsle:1995.51\teval-rmsle:1995.25\n",
            "[25]\ttrain-rmse:1.93687\teval-rmse:1.93664\ttrain-rmsle:1936.87\teval-rmsle:1936.65\n",
            "[26]\ttrain-rmse:1.88003\teval-rmse:1.87983\ttrain-rmsle:1880.03\teval-rmsle:1879.83\n",
            "[27]\ttrain-rmse:1.82501\teval-rmse:1.82485\ttrain-rmsle:1825.01\teval-rmsle:1824.85\n",
            "[28]\ttrain-rmse:1.7715\teval-rmse:1.77137\ttrain-rmsle:1771.5\teval-rmsle:1771.38\n",
            "[29]\ttrain-rmse:1.71964\teval-rmse:1.71955\ttrain-rmsle:1719.64\teval-rmsle:1719.55\n",
            "[30]\ttrain-rmse:1.66943\teval-rmse:1.66937\ttrain-rmsle:1669.43\teval-rmsle:1669.37\n",
            "[31]\ttrain-rmse:1.62082\teval-rmse:1.62075\ttrain-rmsle:1620.83\teval-rmsle:1620.75\n",
            "[32]\ttrain-rmse:1.5736\teval-rmse:1.57356\ttrain-rmsle:1573.6\teval-rmsle:1573.56\n",
            "[33]\ttrain-rmse:1.52783\teval-rmse:1.52782\ttrain-rmsle:1527.83\teval-rmsle:1527.82\n",
            "[34]\ttrain-rmse:1.48354\teval-rmse:1.48354\ttrain-rmsle:1483.54\teval-rmsle:1483.54\n",
            "[35]\ttrain-rmse:1.4409\teval-rmse:1.44091\ttrain-rmsle:1440.9\teval-rmsle:1440.91\n",
            "[36]\ttrain-rmse:1.39931\teval-rmse:1.39932\ttrain-rmsle:1399.3\teval-rmsle:1399.32\n",
            "[37]\ttrain-rmse:1.35899\teval-rmse:1.35906\ttrain-rmsle:1358.99\teval-rmsle:1359.06\n",
            "[38]\ttrain-rmse:1.32004\teval-rmse:1.32016\ttrain-rmsle:1320.05\teval-rmsle:1320.16\n",
            "[39]\ttrain-rmse:1.28215\teval-rmse:1.28227\ttrain-rmsle:1282.15\teval-rmsle:1282.27\n",
            "[40]\ttrain-rmse:1.24538\teval-rmse:1.24554\ttrain-rmsle:1245.38\teval-rmsle:1245.54\n",
            "[41]\ttrain-rmse:1.21011\teval-rmse:1.21029\ttrain-rmsle:1210.11\teval-rmsle:1210.29\n",
            "[42]\ttrain-rmse:1.17586\teval-rmse:1.17605\ttrain-rmsle:1175.86\teval-rmsle:1176.05\n",
            "[43]\ttrain-rmse:1.14241\teval-rmse:1.14266\ttrain-rmsle:1142.41\teval-rmsle:1142.66\n",
            "[44]\ttrain-rmse:1.11\teval-rmse:1.11028\ttrain-rmsle:1110.01\teval-rmsle:1110.28\n",
            "[45]\ttrain-rmse:1.07873\teval-rmse:1.07905\ttrain-rmsle:1078.73\teval-rmsle:1079.05\n",
            "[46]\ttrain-rmse:1.04843\teval-rmse:1.04878\ttrain-rmsle:1048.43\teval-rmsle:1048.78\n",
            "[47]\ttrain-rmse:1.01898\teval-rmse:1.01939\ttrain-rmsle:1018.98\teval-rmsle:1019.39\n",
            "[48]\ttrain-rmse:0.990463\teval-rmse:0.990922\ttrain-rmsle:990.465\teval-rmsle:990.921\n",
            "[49]\ttrain-rmse:0.962944\teval-rmse:0.963461\ttrain-rmsle:962.946\teval-rmsle:963.46\n",
            "[50]\ttrain-rmse:0.936241\teval-rmse:0.936782\ttrain-rmsle:936.245\teval-rmsle:936.783\n",
            "[51]\ttrain-rmse:0.910235\teval-rmse:0.910819\ttrain-rmsle:910.238\teval-rmsle:910.819\n",
            "[52]\ttrain-rmse:0.885174\teval-rmse:0.885797\ttrain-rmsle:885.179\teval-rmsle:885.797\n",
            "[53]\ttrain-rmse:0.860888\teval-rmse:0.861539\ttrain-rmsle:860.889\teval-rmsle:861.539\n",
            "[54]\ttrain-rmse:0.837303\teval-rmse:0.838\ttrain-rmsle:837.303\teval-rmsle:838\n",
            "[55]\ttrain-rmse:0.814517\teval-rmse:0.815214\ttrain-rmsle:814.517\teval-rmsle:815.214\n",
            "[56]\ttrain-rmse:0.792544\teval-rmse:0.79334\ttrain-rmsle:792.541\teval-rmsle:793.34\n",
            "[57]\ttrain-rmse:0.771244\teval-rmse:0.77208\ttrain-rmsle:771.248\teval-rmsle:772.08\n",
            "[58]\ttrain-rmse:0.750636\teval-rmse:0.751485\ttrain-rmsle:750.639\teval-rmsle:751.485\n",
            "[59]\ttrain-rmse:0.730886\teval-rmse:0.731767\ttrain-rmsle:730.886\teval-rmsle:731.767\n",
            "[60]\ttrain-rmse:0.711639\teval-rmse:0.71257\ttrain-rmsle:711.639\teval-rmsle:712.571\n",
            "[61]\ttrain-rmse:0.693056\teval-rmse:0.69406\ttrain-rmsle:693.057\teval-rmsle:694.06\n",
            "[62]\ttrain-rmse:0.675091\teval-rmse:0.676113\ttrain-rmsle:675.091\teval-rmsle:676.113\n",
            "[63]\ttrain-rmse:0.657738\teval-rmse:0.658836\ttrain-rmsle:657.739\teval-rmsle:658.836\n",
            "[64]\ttrain-rmse:0.641022\teval-rmse:0.642178\ttrain-rmsle:641.025\teval-rmsle:642.178\n",
            "[65]\ttrain-rmse:0.624994\teval-rmse:0.626187\ttrain-rmsle:624.996\teval-rmsle:626.187\n",
            "[66]\ttrain-rmse:0.609425\teval-rmse:0.610674\ttrain-rmsle:609.426\teval-rmsle:610.673\n",
            "[67]\ttrain-rmse:0.594242\teval-rmse:0.595616\ttrain-rmsle:594.246\teval-rmsle:595.616\n",
            "[68]\ttrain-rmse:0.579926\teval-rmse:0.58134\ttrain-rmsle:579.928\teval-rmsle:581.34\n",
            "[69]\ttrain-rmse:0.565695\teval-rmse:0.567242\ttrain-rmsle:565.702\teval-rmsle:567.241\n",
            "[70]\ttrain-rmse:0.552177\teval-rmse:0.553777\ttrain-rmsle:552.178\teval-rmsle:553.777\n",
            "[71]\ttrain-rmse:0.538948\teval-rmse:0.540661\ttrain-rmsle:538.952\teval-rmsle:540.662\n",
            "[72]\ttrain-rmse:0.526373\teval-rmse:0.52817\ttrain-rmsle:526.379\teval-rmsle:528.17\n",
            "[73]\ttrain-rmse:0.514257\teval-rmse:0.516098\ttrain-rmsle:514.257\teval-rmsle:516.099\n",
            "[74]\ttrain-rmse:0.502402\teval-rmse:0.504314\ttrain-rmsle:502.403\teval-rmsle:504.314\n",
            "[75]\ttrain-rmse:0.491119\teval-rmse:0.493105\ttrain-rmsle:491.121\teval-rmsle:493.105\n",
            "[76]\ttrain-rmse:0.48\teval-rmse:0.482108\ttrain-rmsle:480.003\teval-rmsle:482.108\n",
            "[77]\ttrain-rmse:0.469632\teval-rmse:0.471806\ttrain-rmsle:469.635\teval-rmsle:471.806\n",
            "[78]\ttrain-rmse:0.4595\teval-rmse:0.461732\ttrain-rmsle:459.506\teval-rmsle:461.733\n",
            "[79]\ttrain-rmse:0.449612\teval-rmse:0.451886\ttrain-rmsle:449.618\teval-rmsle:451.886\n",
            "[80]\ttrain-rmse:0.440209\teval-rmse:0.442548\ttrain-rmsle:440.213\teval-rmsle:442.549\n",
            "[81]\ttrain-rmse:0.431198\teval-rmse:0.4336\ttrain-rmsle:431.203\teval-rmsle:433.601\n",
            "[82]\ttrain-rmse:0.422333\teval-rmse:0.42488\ttrain-rmsle:422.337\teval-rmsle:424.879\n",
            "[83]\ttrain-rmse:0.413825\teval-rmse:0.416448\ttrain-rmsle:413.829\teval-rmsle:416.448\n",
            "[84]\ttrain-rmse:0.405612\teval-rmse:0.408314\ttrain-rmsle:405.616\teval-rmsle:408.314\n",
            "[85]\ttrain-rmse:0.397761\teval-rmse:0.400609\ttrain-rmsle:397.768\teval-rmsle:400.609\n",
            "[86]\ttrain-rmse:0.390336\teval-rmse:0.393272\ttrain-rmsle:390.341\teval-rmsle:393.272\n",
            "[87]\ttrain-rmse:0.383204\teval-rmse:0.386213\ttrain-rmsle:383.209\teval-rmsle:386.213\n",
            "[88]\ttrain-rmse:0.376217\teval-rmse:0.379299\ttrain-rmsle:376.221\teval-rmsle:379.3\n",
            "[89]\ttrain-rmse:0.369455\teval-rmse:0.37261\ttrain-rmsle:369.459\teval-rmsle:372.61\n",
            "[90]\ttrain-rmse:0.363191\teval-rmse:0.366437\ttrain-rmsle:363.196\teval-rmsle:366.437\n",
            "[91]\ttrain-rmse:0.357179\teval-rmse:0.360512\ttrain-rmsle:357.184\teval-rmsle:360.512\n",
            "[92]\ttrain-rmse:0.351397\teval-rmse:0.354796\ttrain-rmsle:351.403\teval-rmsle:354.796\n",
            "[93]\ttrain-rmse:0.345672\teval-rmse:0.349235\ttrain-rmsle:345.679\teval-rmsle:349.236\n",
            "[94]\ttrain-rmse:0.340129\teval-rmse:0.343864\ttrain-rmsle:340.137\teval-rmsle:343.864\n",
            "[95]\ttrain-rmse:0.335061\teval-rmse:0.338926\ttrain-rmsle:335.068\teval-rmsle:338.926\n",
            "[96]\ttrain-rmse:0.330245\teval-rmse:0.334228\ttrain-rmsle:330.254\teval-rmsle:334.228\n",
            "[97]\ttrain-rmse:0.325514\teval-rmse:0.329656\ttrain-rmsle:325.523\teval-rmsle:329.656\n",
            "[98]\ttrain-rmse:0.32093\teval-rmse:0.32525\ttrain-rmsle:320.939\teval-rmsle:325.251\n",
            "[99]\ttrain-rmse:0.31673\teval-rmse:0.321107\ttrain-rmsle:316.738\teval-rmsle:321.107\n",
            "[100]\ttrain-rmse:0.312607\teval-rmse:0.317054\ttrain-rmsle:312.614\teval-rmsle:317.054\n",
            "[101]\ttrain-rmse:0.308567\teval-rmse:0.313201\ttrain-rmsle:308.579\teval-rmsle:313.201\n",
            "[102]\ttrain-rmse:0.304797\teval-rmse:0.309492\ttrain-rmsle:304.808\teval-rmsle:309.492\n",
            "[103]\ttrain-rmse:0.301471\teval-rmse:0.306218\ttrain-rmsle:301.479\teval-rmsle:306.218\n",
            "[104]\ttrain-rmse:0.297889\teval-rmse:0.302714\ttrain-rmsle:297.9\teval-rmsle:302.714\n",
            "[105]\ttrain-rmse:0.294522\teval-rmse:0.299435\ttrain-rmsle:294.531\teval-rmsle:299.435\n",
            "[106]\ttrain-rmse:0.291347\teval-rmse:0.296426\ttrain-rmsle:291.356\teval-rmsle:296.426\n",
            "[107]\ttrain-rmse:0.288106\teval-rmse:0.293385\ttrain-rmsle:288.116\teval-rmsle:293.385\n",
            "[108]\ttrain-rmse:0.285277\teval-rmse:0.290673\ttrain-rmsle:285.287\teval-rmsle:290.673\n",
            "[109]\ttrain-rmse:0.282596\teval-rmse:0.288055\ttrain-rmsle:282.606\teval-rmsle:288.055\n",
            "[110]\ttrain-rmse:0.28011\teval-rmse:0.285617\ttrain-rmsle:280.118\teval-rmsle:285.617\n",
            "[111]\ttrain-rmse:0.277603\teval-rmse:0.283193\ttrain-rmsle:277.613\teval-rmsle:283.193\n",
            "[112]\ttrain-rmse:0.275139\teval-rmse:0.280886\ttrain-rmsle:275.149\teval-rmsle:280.886\n",
            "[113]\ttrain-rmse:0.272761\teval-rmse:0.278626\ttrain-rmsle:272.772\teval-rmsle:278.626\n",
            "[114]\ttrain-rmse:0.270602\teval-rmse:0.276615\ttrain-rmsle:270.613\teval-rmsle:276.615\n",
            "[115]\ttrain-rmse:0.26861\teval-rmse:0.274685\ttrain-rmsle:268.62\teval-rmsle:274.685\n",
            "[116]\ttrain-rmse:0.266677\teval-rmse:0.272893\ttrain-rmsle:266.687\teval-rmsle:272.893\n",
            "[117]\ttrain-rmse:0.264884\teval-rmse:0.271166\ttrain-rmsle:264.892\teval-rmsle:271.166\n",
            "[118]\ttrain-rmse:0.262977\teval-rmse:0.269431\ttrain-rmsle:262.987\teval-rmsle:269.431\n",
            "[119]\ttrain-rmse:0.261149\teval-rmse:0.267663\ttrain-rmsle:261.159\teval-rmsle:267.663\n",
            "[120]\ttrain-rmse:0.259612\teval-rmse:0.266186\ttrain-rmsle:259.62\teval-rmsle:266.187\n",
            "[121]\ttrain-rmse:0.258174\teval-rmse:0.264852\ttrain-rmsle:258.181\teval-rmsle:264.852\n",
            "[122]\ttrain-rmse:0.256751\teval-rmse:0.263488\ttrain-rmsle:256.761\teval-rmsle:263.488\n",
            "[123]\ttrain-rmse:0.255325\teval-rmse:0.262128\ttrain-rmsle:255.335\teval-rmsle:262.128\n",
            "[124]\ttrain-rmse:0.254026\teval-rmse:0.260942\ttrain-rmsle:254.037\teval-rmsle:260.942\n",
            "[125]\ttrain-rmse:0.252809\teval-rmse:0.259765\ttrain-rmsle:252.818\teval-rmsle:259.765\n",
            "[126]\ttrain-rmse:0.251425\teval-rmse:0.258616\ttrain-rmsle:251.435\teval-rmsle:258.617\n",
            "[127]\ttrain-rmse:0.250237\teval-rmse:0.257555\ttrain-rmsle:250.247\teval-rmsle:257.555\n",
            "[128]\ttrain-rmse:0.249179\teval-rmse:0.256552\ttrain-rmsle:249.189\teval-rmsle:256.552\n",
            "[129]\ttrain-rmse:0.24822\teval-rmse:0.255642\ttrain-rmsle:248.229\teval-rmsle:255.642\n",
            "[130]\ttrain-rmse:0.247194\teval-rmse:0.254814\ttrain-rmsle:247.204\teval-rmsle:254.814\n",
            "[131]\ttrain-rmse:0.246124\teval-rmse:0.253887\ttrain-rmsle:246.134\teval-rmsle:253.888\n",
            "[132]\ttrain-rmse:0.245207\teval-rmse:0.253024\ttrain-rmsle:245.217\teval-rmsle:253.025\n",
            "[133]\ttrain-rmse:0.244373\teval-rmse:0.252251\ttrain-rmsle:244.383\teval-rmsle:252.251\n",
            "[134]\ttrain-rmse:0.243611\teval-rmse:0.251526\ttrain-rmsle:243.621\teval-rmsle:251.526\n",
            "[135]\ttrain-rmse:0.242941\teval-rmse:0.250872\ttrain-rmsle:242.951\teval-rmsle:250.872\n",
            "[136]\ttrain-rmse:0.242308\teval-rmse:0.250255\ttrain-rmsle:242.318\teval-rmsle:250.256\n",
            "[137]\ttrain-rmse:0.241641\teval-rmse:0.249628\ttrain-rmsle:241.652\teval-rmsle:249.628\n",
            "[138]\ttrain-rmse:0.240959\teval-rmse:0.249085\ttrain-rmsle:240.97\teval-rmsle:249.085\n",
            "[139]\ttrain-rmse:0.240419\teval-rmse:0.248576\ttrain-rmsle:240.43\teval-rmsle:248.576\n",
            "[140]\ttrain-rmse:0.23989\teval-rmse:0.248066\ttrain-rmsle:239.901\teval-rmsle:248.066\n",
            "[141]\ttrain-rmse:0.239198\teval-rmse:0.247396\ttrain-rmsle:239.208\teval-rmsle:247.396\n",
            "[142]\ttrain-rmse:0.238472\teval-rmse:0.246722\ttrain-rmsle:238.482\teval-rmsle:246.722\n",
            "[143]\ttrain-rmse:0.237915\teval-rmse:0.246264\ttrain-rmsle:237.926\teval-rmsle:246.264\n",
            "[144]\ttrain-rmse:0.237331\teval-rmse:0.245904\ttrain-rmsle:237.341\teval-rmsle:245.904\n",
            "[145]\ttrain-rmse:0.23679\teval-rmse:0.245494\ttrain-rmsle:236.8\teval-rmsle:245.495\n",
            "[146]\ttrain-rmse:0.23631\teval-rmse:0.245147\ttrain-rmsle:236.321\teval-rmsle:245.147\n",
            "[147]\ttrain-rmse:0.235786\teval-rmse:0.244644\ttrain-rmsle:235.797\teval-rmsle:244.644\n",
            "[148]\ttrain-rmse:0.235263\teval-rmse:0.244221\ttrain-rmsle:235.272\teval-rmsle:244.221\n",
            "[149]\ttrain-rmse:0.234757\teval-rmse:0.243848\ttrain-rmsle:234.769\teval-rmsle:243.848\n",
            "[150]\ttrain-rmse:0.234372\teval-rmse:0.243481\ttrain-rmsle:234.381\teval-rmsle:243.481\n",
            "[151]\ttrain-rmse:0.233894\teval-rmse:0.243236\ttrain-rmsle:233.905\teval-rmsle:243.236\n",
            "[152]\ttrain-rmse:0.233566\teval-rmse:0.242944\ttrain-rmsle:233.579\teval-rmsle:242.945\n",
            "[153]\ttrain-rmse:0.233212\teval-rmse:0.242698\ttrain-rmsle:233.222\teval-rmsle:242.698\n",
            "[154]\ttrain-rmse:0.232956\teval-rmse:0.242528\ttrain-rmsle:232.968\teval-rmsle:242.528\n",
            "[155]\ttrain-rmse:0.232579\teval-rmse:0.242174\ttrain-rmsle:232.589\teval-rmsle:242.174\n",
            "[156]\ttrain-rmse:0.232252\teval-rmse:0.241955\ttrain-rmsle:232.262\teval-rmsle:241.955\n",
            "[157]\ttrain-rmse:0.23203\teval-rmse:0.24181\ttrain-rmsle:232.041\teval-rmsle:241.81\n",
            "[158]\ttrain-rmse:0.231661\teval-rmse:0.241465\ttrain-rmsle:231.671\teval-rmsle:241.465\n",
            "[159]\ttrain-rmse:0.231322\teval-rmse:0.241252\ttrain-rmsle:231.333\teval-rmsle:241.252\n",
            "[160]\ttrain-rmse:0.231053\teval-rmse:0.241103\ttrain-rmsle:231.065\teval-rmsle:241.103\n",
            "[161]\ttrain-rmse:0.230892\teval-rmse:0.240946\ttrain-rmsle:230.902\teval-rmsle:240.946\n",
            "[162]\ttrain-rmse:0.230647\teval-rmse:0.240705\ttrain-rmsle:230.658\teval-rmsle:240.705\n",
            "[163]\ttrain-rmse:0.230461\teval-rmse:0.240552\ttrain-rmsle:230.472\teval-rmsle:240.552\n",
            "[164]\ttrain-rmse:0.230256\teval-rmse:0.240363\ttrain-rmsle:230.268\teval-rmsle:240.364\n",
            "[165]\ttrain-rmse:0.230118\teval-rmse:0.240231\ttrain-rmsle:230.129\teval-rmsle:240.231\n",
            "[166]\ttrain-rmse:0.229853\teval-rmse:0.240056\ttrain-rmsle:229.864\teval-rmsle:240.057\n",
            "[167]\ttrain-rmse:0.229623\teval-rmse:0.239849\ttrain-rmsle:229.635\teval-rmsle:239.85\n",
            "[168]\ttrain-rmse:0.229504\teval-rmse:0.239737\ttrain-rmsle:229.515\teval-rmsle:239.736\n",
            "[169]\ttrain-rmse:0.229287\teval-rmse:0.239535\ttrain-rmsle:229.297\teval-rmsle:239.535\n",
            "[170]\ttrain-rmse:0.229136\teval-rmse:0.239399\ttrain-rmsle:229.147\teval-rmsle:239.399\n",
            "[171]\ttrain-rmse:0.228929\teval-rmse:0.239205\ttrain-rmsle:228.94\teval-rmsle:239.205\n",
            "[172]\ttrain-rmse:0.228708\teval-rmse:0.239123\ttrain-rmsle:228.717\teval-rmsle:239.123\n",
            "[173]\ttrain-rmse:0.228578\teval-rmse:0.239019\ttrain-rmsle:228.588\teval-rmsle:239.019\n",
            "[174]\ttrain-rmse:0.228446\teval-rmse:0.23897\ttrain-rmsle:228.457\teval-rmsle:238.97\n",
            "[175]\ttrain-rmse:0.228262\teval-rmse:0.238919\ttrain-rmsle:228.274\teval-rmsle:238.919\n",
            "[176]\ttrain-rmse:0.228014\teval-rmse:0.238706\ttrain-rmsle:228.026\teval-rmsle:238.706\n",
            "[177]\ttrain-rmse:0.227895\teval-rmse:0.238597\ttrain-rmsle:227.906\teval-rmsle:238.597\n",
            "[178]\ttrain-rmse:0.227845\teval-rmse:0.23855\ttrain-rmsle:227.856\teval-rmsle:238.55\n",
            "[179]\ttrain-rmse:0.227591\teval-rmse:0.23848\ttrain-rmsle:227.6\teval-rmsle:238.481\n",
            "[180]\ttrain-rmse:0.227458\teval-rmse:0.238376\ttrain-rmsle:227.47\teval-rmsle:238.376\n",
            "[181]\ttrain-rmse:0.227416\teval-rmse:0.238337\ttrain-rmsle:227.428\teval-rmsle:238.337\n",
            "[182]\ttrain-rmse:0.227182\teval-rmse:0.23826\ttrain-rmsle:227.193\teval-rmsle:238.26\n",
            "[183]\ttrain-rmse:0.226994\teval-rmse:0.23819\ttrain-rmsle:227.005\teval-rmsle:238.19\n",
            "[184]\ttrain-rmse:0.226886\teval-rmse:0.238087\ttrain-rmsle:226.897\teval-rmsle:238.087\n",
            "[185]\ttrain-rmse:0.226707\teval-rmse:0.238015\ttrain-rmsle:226.718\teval-rmsle:238.015\n",
            "[186]\ttrain-rmse:0.226626\teval-rmse:0.237956\ttrain-rmsle:226.636\teval-rmsle:237.956\n",
            "[187]\ttrain-rmse:0.226536\teval-rmse:0.237874\ttrain-rmsle:226.545\teval-rmsle:237.874\n",
            "[188]\ttrain-rmse:0.226479\teval-rmse:0.237825\ttrain-rmsle:226.49\teval-rmsle:237.825\n",
            "[189]\ttrain-rmse:0.2263\teval-rmse:0.23778\ttrain-rmsle:226.311\teval-rmsle:237.78\n",
            "[190]\ttrain-rmse:0.226221\teval-rmse:0.237766\ttrain-rmsle:226.232\teval-rmsle:237.766\n",
            "[191]\ttrain-rmse:0.22612\teval-rmse:0.237701\ttrain-rmsle:226.129\teval-rmsle:237.702\n",
            "[192]\ttrain-rmse:0.226047\teval-rmse:0.237643\ttrain-rmsle:226.057\teval-rmsle:237.643\n",
            "[193]\ttrain-rmse:0.225865\teval-rmse:0.237601\ttrain-rmsle:225.877\teval-rmsle:237.601\n",
            "[194]\ttrain-rmse:0.225805\teval-rmse:0.237571\ttrain-rmsle:225.815\teval-rmsle:237.571\n",
            "[195]\ttrain-rmse:0.225663\teval-rmse:0.23754\ttrain-rmsle:225.673\teval-rmsle:237.54\n",
            "[196]\ttrain-rmse:0.225602\teval-rmse:0.237538\ttrain-rmsle:225.613\teval-rmsle:237.538\n",
            "[197]\ttrain-rmse:0.225555\teval-rmse:0.2375\ttrain-rmsle:225.565\teval-rmsle:237.5\n",
            "[198]\ttrain-rmse:0.22544\teval-rmse:0.237412\ttrain-rmsle:225.452\teval-rmsle:237.412\n",
            "[199]\ttrain-rmse:0.225381\teval-rmse:0.237351\ttrain-rmsle:225.393\teval-rmsle:237.351\n",
            "[200]\ttrain-rmse:0.225334\teval-rmse:0.237318\ttrain-rmsle:225.345\teval-rmsle:237.318\n",
            "[201]\ttrain-rmse:0.225145\teval-rmse:0.23734\ttrain-rmsle:225.156\teval-rmsle:237.34\n",
            "[202]\ttrain-rmse:0.225093\teval-rmse:0.237289\ttrain-rmsle:225.104\teval-rmsle:237.29\n",
            "[203]\ttrain-rmse:0.225048\teval-rmse:0.237256\ttrain-rmsle:225.06\teval-rmsle:237.256\n",
            "[204]\ttrain-rmse:0.225017\teval-rmse:0.237234\ttrain-rmsle:225.029\teval-rmsle:237.234\n",
            "[205]\ttrain-rmse:0.224984\teval-rmse:0.237206\ttrain-rmsle:224.996\teval-rmsle:237.206\n",
            "[206]\ttrain-rmse:0.224951\teval-rmse:0.237187\ttrain-rmsle:224.963\teval-rmsle:237.187\n",
            "[207]\ttrain-rmse:0.224883\teval-rmse:0.237123\ttrain-rmsle:224.895\teval-rmsle:237.123\n",
            "[208]\ttrain-rmse:0.224794\teval-rmse:0.237162\ttrain-rmsle:224.806\teval-rmsle:237.162\n",
            "[209]\ttrain-rmse:0.224746\teval-rmse:0.237151\ttrain-rmsle:224.757\teval-rmsle:237.152\n",
            "[210]\ttrain-rmse:0.224722\teval-rmse:0.237131\ttrain-rmsle:224.734\teval-rmsle:237.131\n",
            "[211]\ttrain-rmse:0.224669\teval-rmse:0.237095\ttrain-rmsle:224.681\teval-rmsle:237.095\n",
            "[212]\ttrain-rmse:0.224644\teval-rmse:0.237072\ttrain-rmsle:224.656\teval-rmsle:237.072\n",
            "[213]\ttrain-rmse:0.224515\teval-rmse:0.237065\ttrain-rmsle:224.527\teval-rmsle:237.065\n",
            "[214]\ttrain-rmse:0.224467\teval-rmse:0.237029\ttrain-rmsle:224.477\teval-rmsle:237.029\n",
            "[215]\ttrain-rmse:0.224405\teval-rmse:0.236977\ttrain-rmsle:224.415\teval-rmsle:236.977\n",
            "[216]\ttrain-rmse:0.224303\teval-rmse:0.236986\ttrain-rmsle:224.314\teval-rmsle:236.986\n",
            "[217]\ttrain-rmse:0.224262\teval-rmse:0.236953\ttrain-rmsle:224.271\teval-rmsle:236.954\n",
            "[218]\ttrain-rmse:0.224199\teval-rmse:0.236961\ttrain-rmsle:224.21\teval-rmsle:236.962\n",
            "[219]\ttrain-rmse:0.224158\teval-rmse:0.236964\ttrain-rmsle:224.169\teval-rmsle:236.964\n",
            "[220]\ttrain-rmse:0.224091\teval-rmse:0.236971\ttrain-rmsle:224.102\teval-rmsle:236.971\n",
            "[221]\ttrain-rmse:0.224033\teval-rmse:0.237006\ttrain-rmsle:224.044\teval-rmsle:237.007\n",
            "[222]\ttrain-rmse:0.223978\teval-rmse:0.236964\ttrain-rmsle:223.989\teval-rmsle:236.965\n",
            "[223]\ttrain-rmse:0.22394\teval-rmse:0.236935\ttrain-rmsle:223.952\teval-rmsle:236.935\n",
            "[224]\ttrain-rmse:0.223894\teval-rmse:0.236943\ttrain-rmsle:223.906\teval-rmsle:236.943\n",
            "[225]\ttrain-rmse:0.223791\teval-rmse:0.236987\ttrain-rmsle:223.802\teval-rmsle:236.987\n",
            "[226]\ttrain-rmse:0.223687\teval-rmse:0.236966\ttrain-rmsle:223.698\teval-rmsle:236.966\n",
            "[227]\ttrain-rmse:0.223617\teval-rmse:0.236962\ttrain-rmsle:223.628\teval-rmsle:236.962\n",
            "[228]\ttrain-rmse:0.223555\teval-rmse:0.23691\ttrain-rmsle:223.566\teval-rmsle:236.91\n",
            "[229]\ttrain-rmse:0.223463\teval-rmse:0.236873\ttrain-rmsle:223.473\teval-rmsle:236.873\n",
            "[230]\ttrain-rmse:0.223424\teval-rmse:0.236857\ttrain-rmsle:223.435\teval-rmsle:236.857\n",
            "[231]\ttrain-rmse:0.223392\teval-rmse:0.236829\ttrain-rmsle:223.403\teval-rmsle:236.829\n",
            "[232]\ttrain-rmse:0.223296\teval-rmse:0.23686\ttrain-rmsle:223.307\teval-rmsle:236.861\n",
            "[233]\ttrain-rmse:0.223294\teval-rmse:0.236858\ttrain-rmsle:223.304\teval-rmsle:236.858\n",
            "[234]\ttrain-rmse:0.223258\teval-rmse:0.236832\ttrain-rmsle:223.268\teval-rmsle:236.833\n",
            "[235]\ttrain-rmse:0.223236\teval-rmse:0.23684\ttrain-rmsle:223.247\teval-rmsle:236.84\n",
            "[236]\ttrain-rmse:0.223216\teval-rmse:0.236833\ttrain-rmsle:223.226\teval-rmsle:236.834\n",
            "[237]\ttrain-rmse:0.22317\teval-rmse:0.236792\ttrain-rmsle:223.18\teval-rmsle:236.792\n",
            "[238]\ttrain-rmse:0.223138\teval-rmse:0.236772\ttrain-rmsle:223.149\teval-rmsle:236.772\n",
            "[239]\ttrain-rmse:0.22313\teval-rmse:0.236771\ttrain-rmsle:223.141\teval-rmsle:236.771\n",
            "[240]\ttrain-rmse:0.223091\teval-rmse:0.236761\ttrain-rmsle:223.102\teval-rmsle:236.761\n",
            "[241]\ttrain-rmse:0.223039\teval-rmse:0.236725\ttrain-rmsle:223.049\teval-rmsle:236.725\n",
            "[242]\ttrain-rmse:0.222998\teval-rmse:0.236692\ttrain-rmsle:223.008\teval-rmsle:236.692\n",
            "[243]\ttrain-rmse:0.222961\teval-rmse:0.236662\ttrain-rmsle:222.972\teval-rmsle:236.662\n",
            "[244]\ttrain-rmse:0.222954\teval-rmse:0.236656\ttrain-rmsle:222.965\teval-rmsle:236.656\n",
            "[245]\ttrain-rmse:0.222927\teval-rmse:0.236639\ttrain-rmsle:222.938\teval-rmsle:236.639\n",
            "[246]\ttrain-rmse:0.2229\teval-rmse:0.23661\ttrain-rmsle:222.91\teval-rmsle:236.61\n",
            "[247]\ttrain-rmse:0.222841\teval-rmse:0.236624\ttrain-rmsle:222.851\teval-rmsle:236.624\n",
            "[248]\ttrain-rmse:0.222811\teval-rmse:0.236674\ttrain-rmsle:222.821\teval-rmsle:236.674\n",
            "[249]\ttrain-rmse:0.22276\teval-rmse:0.23663\ttrain-rmsle:222.771\teval-rmsle:236.63\n",
            "[250]\ttrain-rmse:0.222718\teval-rmse:0.236597\ttrain-rmsle:222.73\teval-rmsle:236.597\n",
            "[251]\ttrain-rmse:0.222707\teval-rmse:0.236587\ttrain-rmsle:222.719\teval-rmsle:236.587\n",
            "[252]\ttrain-rmse:0.222658\teval-rmse:0.236666\ttrain-rmsle:222.669\teval-rmsle:236.666\n",
            "[253]\ttrain-rmse:0.222622\teval-rmse:0.236669\ttrain-rmsle:222.634\teval-rmsle:236.67\n",
            "[254]\ttrain-rmse:0.222597\teval-rmse:0.236668\ttrain-rmsle:222.608\teval-rmsle:236.668\n",
            "[255]\ttrain-rmse:0.222594\teval-rmse:0.236664\ttrain-rmsle:222.605\teval-rmsle:236.664\n",
            "[256]\ttrain-rmse:0.22255\teval-rmse:0.236713\ttrain-rmsle:222.561\teval-rmsle:236.714\n",
            "[257]\ttrain-rmse:0.222484\teval-rmse:0.236704\ttrain-rmsle:222.495\teval-rmsle:236.704\n",
            "[258]\ttrain-rmse:0.222466\teval-rmse:0.236707\ttrain-rmsle:222.476\teval-rmsle:236.707\n",
            "[259]\ttrain-rmse:0.222429\teval-rmse:0.236673\ttrain-rmsle:222.439\teval-rmsle:236.673\n",
            "[260]\ttrain-rmse:0.22241\teval-rmse:0.23667\ttrain-rmsle:222.421\teval-rmsle:236.67\n",
            "[261]\ttrain-rmse:0.22239\teval-rmse:0.236655\ttrain-rmsle:222.401\teval-rmsle:236.655\n",
            "[262]\ttrain-rmse:0.222361\teval-rmse:0.236637\ttrain-rmsle:222.372\teval-rmsle:236.638\n",
            "[263]\ttrain-rmse:0.222346\teval-rmse:0.236646\ttrain-rmsle:222.357\teval-rmsle:236.646\n",
            "[264]\ttrain-rmse:0.222328\teval-rmse:0.236649\ttrain-rmsle:222.339\teval-rmsle:236.649\n",
            "[265]\ttrain-rmse:0.222291\teval-rmse:0.236622\ttrain-rmsle:222.302\teval-rmsle:236.622\n",
            "[266]\ttrain-rmse:0.222239\teval-rmse:0.236582\ttrain-rmsle:222.25\teval-rmsle:236.582\n",
            "[267]\ttrain-rmse:0.22219\teval-rmse:0.236548\ttrain-rmsle:222.201\teval-rmsle:236.548\n",
            "[268]\ttrain-rmse:0.222189\teval-rmse:0.236548\ttrain-rmsle:222.2\teval-rmsle:236.548\n",
            "[269]\ttrain-rmse:0.22218\teval-rmse:0.23655\ttrain-rmsle:222.191\teval-rmsle:236.55\n",
            "[270]\ttrain-rmse:0.222165\teval-rmse:0.236547\ttrain-rmsle:222.175\teval-rmsle:236.548\n",
            "[271]\ttrain-rmse:0.222127\teval-rmse:0.236517\ttrain-rmsle:222.139\teval-rmsle:236.517\n",
            "[272]\ttrain-rmse:0.222127\teval-rmse:0.236518\ttrain-rmsle:222.138\teval-rmsle:236.518\n",
            "[273]\ttrain-rmse:0.222102\teval-rmse:0.236517\ttrain-rmsle:222.113\teval-rmsle:236.518\n",
            "[274]\ttrain-rmse:0.222065\teval-rmse:0.236567\ttrain-rmsle:222.076\teval-rmsle:236.567\n",
            "[275]\ttrain-rmse:0.222027\teval-rmse:0.23654\ttrain-rmsle:222.037\teval-rmsle:236.54\n",
            "[276]\ttrain-rmse:0.222019\teval-rmse:0.236529\ttrain-rmsle:222.03\teval-rmsle:236.529\n",
            "[277]\ttrain-rmse:0.222012\teval-rmse:0.236519\ttrain-rmsle:222.023\teval-rmsle:236.519\n",
            "[278]\ttrain-rmse:0.222\teval-rmse:0.236511\ttrain-rmsle:222.012\teval-rmsle:236.511\n",
            "[279]\ttrain-rmse:0.221951\teval-rmse:0.236572\ttrain-rmsle:221.963\teval-rmsle:236.573\n",
            "[280]\ttrain-rmse:0.221917\teval-rmse:0.236541\ttrain-rmsle:221.928\teval-rmsle:236.541\n",
            "[281]\ttrain-rmse:0.221894\teval-rmse:0.236528\ttrain-rmsle:221.905\teval-rmsle:236.528\n",
            "[282]\ttrain-rmse:0.221873\teval-rmse:0.236507\ttrain-rmsle:221.885\teval-rmsle:236.507\n",
            "[283]\ttrain-rmse:0.221854\teval-rmse:0.236523\ttrain-rmsle:221.865\teval-rmsle:236.523\n",
            "[284]\ttrain-rmse:0.221804\teval-rmse:0.23648\ttrain-rmsle:221.814\teval-rmsle:236.48\n",
            "[285]\ttrain-rmse:0.221803\teval-rmse:0.23648\ttrain-rmsle:221.814\teval-rmsle:236.48\n",
            "[286]\ttrain-rmse:0.221789\teval-rmse:0.236501\ttrain-rmsle:221.8\teval-rmsle:236.501\n",
            "[287]\ttrain-rmse:0.221773\teval-rmse:0.236487\ttrain-rmsle:221.783\teval-rmsle:236.487\n",
            "[288]\ttrain-rmse:0.221773\teval-rmse:0.236487\ttrain-rmsle:221.783\teval-rmsle:236.487\n",
            "[289]\ttrain-rmse:0.221754\teval-rmse:0.236476\ttrain-rmsle:221.764\teval-rmsle:236.476\n",
            "[290]\ttrain-rmse:0.221719\teval-rmse:0.236445\ttrain-rmsle:221.73\teval-rmsle:236.445\n",
            "[291]\ttrain-rmse:0.221704\teval-rmse:0.236435\ttrain-rmsle:221.715\teval-rmsle:236.435\n",
            "[292]\ttrain-rmse:0.221667\teval-rmse:0.236436\ttrain-rmsle:221.677\teval-rmsle:236.436\n",
            "[293]\ttrain-rmse:0.221635\teval-rmse:0.236465\ttrain-rmsle:221.646\teval-rmsle:236.465\n",
            "[294]\ttrain-rmse:0.221611\teval-rmse:0.236473\ttrain-rmsle:221.622\teval-rmsle:236.473\n",
            "[295]\ttrain-rmse:0.221596\teval-rmse:0.236474\ttrain-rmsle:221.607\teval-rmsle:236.475\n",
            "[296]\ttrain-rmse:0.221565\teval-rmse:0.236488\ttrain-rmsle:221.576\teval-rmsle:236.488\n",
            "[297]\ttrain-rmse:0.221549\teval-rmse:0.236507\ttrain-rmsle:221.56\teval-rmsle:236.507\n",
            "[298]\ttrain-rmse:0.221544\teval-rmse:0.236503\ttrain-rmsle:221.554\teval-rmsle:236.503\n",
            "[299]\ttrain-rmse:0.221525\teval-rmse:0.236492\ttrain-rmsle:221.536\teval-rmsle:236.492\n",
            "[300]\ttrain-rmse:0.221496\teval-rmse:0.236465\ttrain-rmsle:221.507\teval-rmsle:236.465\n",
            "[301]\ttrain-rmse:0.221471\teval-rmse:0.236447\ttrain-rmsle:221.481\teval-rmsle:236.447\n",
            "[302]\ttrain-rmse:0.221437\teval-rmse:0.23652\ttrain-rmsle:221.447\teval-rmsle:236.52\n",
            "[303]\ttrain-rmse:0.221412\teval-rmse:0.236511\ttrain-rmsle:221.422\teval-rmsle:236.512\n",
            "[304]\ttrain-rmse:0.221397\teval-rmse:0.236512\ttrain-rmsle:221.408\teval-rmsle:236.512\n",
            "[305]\ttrain-rmse:0.221375\teval-rmse:0.236506\ttrain-rmsle:221.386\teval-rmsle:236.506\n",
            "[306]\ttrain-rmse:0.221363\teval-rmse:0.236503\ttrain-rmsle:221.373\teval-rmsle:236.503\n",
            "[307]\ttrain-rmse:0.221339\teval-rmse:0.236535\ttrain-rmsle:221.35\teval-rmsle:236.535\n",
            "[308]\ttrain-rmse:0.221314\teval-rmse:0.23654\ttrain-rmsle:221.325\teval-rmsle:236.541\n",
            "[309]\ttrain-rmse:0.221304\teval-rmse:0.236529\ttrain-rmsle:221.316\teval-rmsle:236.529\n",
            "[310]\ttrain-rmse:0.221262\teval-rmse:0.236591\ttrain-rmsle:221.273\teval-rmsle:236.592\n",
            "[311]\ttrain-rmse:0.221231\teval-rmse:0.236614\ttrain-rmsle:221.242\teval-rmsle:236.614\n",
            "[312]\ttrain-rmse:0.22121\teval-rmse:0.236674\ttrain-rmsle:221.221\teval-rmsle:236.674\n",
            "[313]\ttrain-rmse:0.221202\teval-rmse:0.236702\ttrain-rmsle:221.213\teval-rmsle:236.702\n",
            "[314]\ttrain-rmse:0.22117\teval-rmse:0.236736\ttrain-rmsle:221.181\teval-rmsle:236.735\n",
            "[315]\ttrain-rmse:0.221128\teval-rmse:0.236737\ttrain-rmsle:221.14\teval-rmsle:236.738\n",
            "[316]\ttrain-rmse:0.221109\teval-rmse:0.236728\ttrain-rmsle:221.12\teval-rmsle:236.728\n",
            "[317]\ttrain-rmse:0.221088\teval-rmse:0.23675\ttrain-rmsle:221.099\teval-rmsle:236.751\n",
            "[318]\ttrain-rmse:0.221083\teval-rmse:0.23674\ttrain-rmsle:221.095\teval-rmsle:236.74\n",
            "[319]\ttrain-rmse:0.221072\teval-rmse:0.236742\ttrain-rmsle:221.084\teval-rmsle:236.742\n",
            "[320]\ttrain-rmse:0.221061\teval-rmse:0.236749\ttrain-rmsle:221.074\teval-rmsle:236.749\n",
            "[321]\ttrain-rmse:0.221044\teval-rmse:0.236771\ttrain-rmsle:221.056\teval-rmsle:236.771\n",
            "[322]\ttrain-rmse:0.221023\teval-rmse:0.236784\ttrain-rmsle:221.036\teval-rmsle:236.784\n",
            "[323]\ttrain-rmse:0.221018\teval-rmse:0.236779\ttrain-rmsle:221.03\teval-rmsle:236.779\n",
            "[324]\ttrain-rmse:0.221007\teval-rmse:0.236795\ttrain-rmsle:221.019\teval-rmsle:236.795\n",
            "[325]\ttrain-rmse:0.221001\teval-rmse:0.236791\ttrain-rmsle:221.012\teval-rmsle:236.791\n",
            "[326]\ttrain-rmse:0.220983\teval-rmse:0.236831\ttrain-rmsle:220.995\teval-rmsle:236.831\n",
            "[327]\ttrain-rmse:0.220974\teval-rmse:0.236854\ttrain-rmsle:220.985\teval-rmsle:236.854\n",
            "[328]\ttrain-rmse:0.220946\teval-rmse:0.236872\ttrain-rmsle:220.958\teval-rmsle:236.872\n",
            "[329]\ttrain-rmse:0.220928\teval-rmse:0.236889\ttrain-rmsle:220.94\teval-rmsle:236.889\n",
            "[330]\ttrain-rmse:0.220921\teval-rmse:0.236883\ttrain-rmsle:220.933\teval-rmsle:236.884\n",
            "[331]\ttrain-rmse:0.220899\teval-rmse:0.236905\ttrain-rmsle:220.911\teval-rmsle:236.906\n",
            "[332]\ttrain-rmse:0.220895\teval-rmse:0.236908\ttrain-rmsle:220.907\teval-rmsle:236.908\n",
            "[333]\ttrain-rmse:0.220876\teval-rmse:0.236956\ttrain-rmsle:220.887\teval-rmsle:236.956\n",
            "[334]\ttrain-rmse:0.220864\teval-rmse:0.236946\ttrain-rmsle:220.875\teval-rmsle:236.946\n",
            "[335]\ttrain-rmse:0.220859\teval-rmse:0.236956\ttrain-rmsle:220.87\teval-rmsle:236.956\n",
            "[336]\ttrain-rmse:0.220833\teval-rmse:0.237012\ttrain-rmsle:220.844\teval-rmsle:237.012\n",
            "[337]\ttrain-rmse:0.220817\teval-rmse:0.23706\ttrain-rmsle:220.829\teval-rmsle:237.06\n",
            "[338]\ttrain-rmse:0.220815\teval-rmse:0.237058\ttrain-rmsle:220.826\teval-rmsle:237.058\n",
            "[339]\ttrain-rmse:0.220798\teval-rmse:0.237045\ttrain-rmsle:220.81\teval-rmsle:237.046\n",
            "[340]\ttrain-rmse:0.220782\teval-rmse:0.237095\ttrain-rmsle:220.793\teval-rmsle:237.094\n",
            "[341]\ttrain-rmse:0.220766\teval-rmse:0.237112\ttrain-rmsle:220.778\teval-rmsle:237.112\n",
            "Stopping. Best iteration:\n",
            "[291]\ttrain-rmse:0.221704\teval-rmse:0.236435\ttrain-rmsle:221.715\teval-rmsle:236.435\n",
            "\n",
            "Training time is 327.788042 s.\n"
          ],
          "name": "stdout"
        }
      ]
    },
    {
      "cell_type": "code",
      "metadata": {
        "id": "Exuy0r3A3skZ",
        "trusted": true,
        "colab": {
          "base_uri": "https://localhost:8080/",
          "height": 436
        },
        "outputId": "97c72aaf-3a3a-4cea-8c51-749cc40671d3"
      },
      "source": [
        "print(\"Make predictions on the test set\")\n",
        "\n",
        "dtest = xgb.DMatrix(X_test)\n",
        "y_pred = gbm.predict(dtest)\n",
        "\n",
        "# model1  kaggle private score 0.12647\n",
        "pred_df = pd.DataFrame({\"ID\": test_['ID'], \"Sales\": np.expm1(y_pred)})\n",
        "pred_df"
      ],
      "execution_count": 27,
      "outputs": [
        {
          "output_type": "stream",
          "text": [
            "Make predictions on the test set\n"
          ],
          "name": "stdout"
        },
        {
          "output_type": "execute_result",
          "data": {
            "text/html": [
              "<div>\n",
              "<style scoped>\n",
              "    .dataframe tbody tr th:only-of-type {\n",
              "        vertical-align: middle;\n",
              "    }\n",
              "\n",
              "    .dataframe tbody tr th {\n",
              "        vertical-align: top;\n",
              "    }\n",
              "\n",
              "    .dataframe thead th {\n",
              "        text-align: right;\n",
              "    }\n",
              "</style>\n",
              "<table border=\"1\" class=\"dataframe\">\n",
              "  <thead>\n",
              "    <tr style=\"text-align: right;\">\n",
              "      <th></th>\n",
              "      <th>ID</th>\n",
              "      <th>Sales</th>\n",
              "    </tr>\n",
              "  </thead>\n",
              "  <tbody>\n",
              "    <tr>\n",
              "      <th>0</th>\n",
              "      <td>883</td>\n",
              "      <td>115.034233</td>\n",
              "    </tr>\n",
              "    <tr>\n",
              "      <th>1</th>\n",
              "      <td>884</td>\n",
              "      <td>118.384979</td>\n",
              "    </tr>\n",
              "    <tr>\n",
              "      <th>2</th>\n",
              "      <td>885</td>\n",
              "      <td>100.410622</td>\n",
              "    </tr>\n",
              "    <tr>\n",
              "      <th>3</th>\n",
              "      <td>886</td>\n",
              "      <td>93.212082</td>\n",
              "    </tr>\n",
              "    <tr>\n",
              "      <th>4</th>\n",
              "      <td>887</td>\n",
              "      <td>51.281963</td>\n",
              "    </tr>\n",
              "    <tr>\n",
              "      <th>...</th>\n",
              "      <td>...</td>\n",
              "      <td>...</td>\n",
              "    </tr>\n",
              "    <tr>\n",
              "      <th>35995</th>\n",
              "      <td>548083</td>\n",
              "      <td>148.505936</td>\n",
              "    </tr>\n",
              "    <tr>\n",
              "      <th>35996</th>\n",
              "      <td>548084</td>\n",
              "      <td>120.826859</td>\n",
              "    </tr>\n",
              "    <tr>\n",
              "      <th>35997</th>\n",
              "      <td>548085</td>\n",
              "      <td>116.875389</td>\n",
              "    </tr>\n",
              "    <tr>\n",
              "      <th>35998</th>\n",
              "      <td>548086</td>\n",
              "      <td>118.406387</td>\n",
              "    </tr>\n",
              "    <tr>\n",
              "      <th>35999</th>\n",
              "      <td>548087</td>\n",
              "      <td>126.440681</td>\n",
              "    </tr>\n",
              "  </tbody>\n",
              "</table>\n",
              "<p>36000 rows × 2 columns</p>\n",
              "</div>"
            ],
            "text/plain": [
              "           ID       Sales\n",
              "0         883  115.034233\n",
              "1         884  118.384979\n",
              "2         885  100.410622\n",
              "3         886   93.212082\n",
              "4         887   51.281963\n",
              "...       ...         ...\n",
              "35995  548083  148.505936\n",
              "35996  548084  120.826859\n",
              "35997  548085  116.875389\n",
              "35998  548086  118.406387\n",
              "35999  548087  126.440681\n",
              "\n",
              "[36000 rows x 2 columns]"
            ]
          },
          "metadata": {
            "tags": []
          },
          "execution_count": 27
        }
      ]
    },
    {
      "cell_type": "code",
      "metadata": {
        "id": "Gzy6PjfcYruE"
      },
      "source": [
        "pred_df.to_csv(\"/content/xgb_submission.csv\",index=False)"
      ],
      "execution_count": 30,
      "outputs": []
    },
    {
      "cell_type": "code",
      "metadata": {
        "id": "m8GQhUmX3wcu",
        "trusted": true
      },
      "source": [
        "# print(\"weight correction\")\n",
        "# W=[(0.995+(i/1000)) for i in range(30)]\n",
        "# S =[]\n",
        "# for w in W:\n",
        "#     error = RMSLE(np.expm1(y_val), np.expm1(yhat*w))\n",
        "#     print('RMSPE for {:.3f}:{:.6f}'.format(w,error))\n",
        "#     S.append(error)\n",
        "# Score = pd.Series(S,index=W)\n",
        "# Score.plot()\n",
        "# BS = Score[Score.values == Score.values.min()]\n",
        "# print ('Best weight for Score:{}'.format(BS))"
      ],
      "execution_count": null,
      "outputs": []
    },
    {
      "cell_type": "code",
      "metadata": {
        "id": "O5zU2_3h3zHm",
        "trusted": true
      },
      "source": [
        "# result_w3 = pd.DataFrame({\"ID\": test1['ID'], 'Sales': np.expm1(test_probs*1.001)})\n",
        "# result_w3 #.to_csv('gbmm7.csv',index=False) "
      ],
      "execution_count": null,
      "outputs": []
    },
    {
      "cell_type": "code",
      "metadata": {
        "id": "Xkegj6jy31y2",
        "trusted": true
      },
      "source": [
        "# out of the different models XGBoost Worked well and also Random Forest gave relatively good results.\n",
        "# The predictions can be more improved provided there are more features\n",
        "# Features like Year and Week of year were added and different models are builded but none of them performed better.Hence they are removed and only dy of week feature is added\n",
        "# All the features were important and ID feature has much correlation with Course_ID variable hence it is dropped\n"
      ],
      "execution_count": null,
      "outputs": []
    },
    {
      "cell_type": "code",
      "metadata": {
        "id": "Fpg4KirM46by",
        "trusted": true
      },
      "source": [
        ""
      ],
      "execution_count": null,
      "outputs": []
    }
  ]
}